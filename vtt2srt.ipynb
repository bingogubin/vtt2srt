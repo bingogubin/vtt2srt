{
 "cells": [
  {
   "cell_type": "code",
   "execution_count": 101,
   "metadata": {},
   "outputs": [],
   "source": [
    "import os\n",
    "import codecs\n",
    "path='C:\\\\Users\\\\Administrator\\\\Downloads\\\\'\n",
    "files= os.listdir(path)\n",
    "for file in files:\n",
    "    if (not os.path.isdir(file)) and (\"vtt\" in file):\n",
    "        filename_src = file\n",
    "        filename_dst = file.split('.')[0] + '.srt'\n",
    "        with open(path+filename_dst,'w') as file_object_dst: \n",
    "            with open(path+filename_src,'r') as file_object_src:\n",
    "                i=1\n",
    "                for line in file_object_src:\n",
    "                    if (\"WEBVTT\") in line:\n",
    "                        continue\n",
    "                    if \"-->\" in line:\n",
    "                        file_object_dst.write(str(i)+\"\\n\")\n",
    "                        i=i+1\n",
    "                        file_object_dst.write(line)\n",
    "                    else:\n",
    "                        if i!=1:\n",
    "                            file_object_dst.write(line)"
   ]
  },
  {
   "cell_type": "code",
   "execution_count": null,
   "metadata": {},
   "outputs": [],
   "source": []
  },
  {
   "cell_type": "code",
   "execution_count": null,
   "metadata": {},
   "outputs": [],
   "source": []
  }
 ],
 "metadata": {
  "kernelspec": {
   "display_name": "Python 3",
   "language": "python",
   "name": "python3"
  },
  "language_info": {
   "codemirror_mode": {
    "name": "ipython",
    "version": 3
   },
   "file_extension": ".py",
   "mimetype": "text/x-python",
   "name": "python",
   "nbconvert_exporter": "python",
   "pygments_lexer": "ipython3",
   "version": "3.6.4"
  }
 },
 "nbformat": 4,
 "nbformat_minor": 2
}
